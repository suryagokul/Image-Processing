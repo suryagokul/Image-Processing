{
 "cells": [
  {
   "cell_type": "code",
   "execution_count": 14,
   "metadata": {},
   "outputs": [],
   "source": [
    "import cv2"
   ]
  },
  {
   "cell_type": "markdown",
   "metadata": {},
   "source": [
    "`cv2.waitKey() is a keyboard binding function. Its argument is the time in milliseconds. The function waits for specified milliseconds for any keyboard event. If you press any key in that time, the program continues. If 0 is passed, it waits indefinitely for a key stroke. It can also be set to detect specific key strokes like, if key a is pressed etc which we will discuss below.`"
   ]
  },
  {
   "cell_type": "markdown",
   "metadata": {},
   "source": [
    "`Note : `\n",
    "         \n",
    "         If you are using a 64-bit machine, you will have to modify           \n",
    "         k = cv2.waitKey(0) line as follows : k = cv2.waitKey(0) & 0xFF"
   ]
  },
  {
   "cell_type": "code",
   "execution_count": 19,
   "metadata": {},
   "outputs": [
    {
     "name": "stdout",
     "output_type": "stream",
     "text": [
      "True\n",
      "True\n",
      "True\n",
      "True\n"
     ]
    }
   ],
   "source": [
    "cap = cv2.VideoCapture(0)\n",
    "\n",
    "while True:\n",
    "    rate, frame = cap.read()\n",
    "    print(rate)                              # returns Boolean value True\n",
    "    cv2.imshow('Windowtitle',frame)\n",
    "    if cv2.waitKey(0) & 0xFF == ord('q'):         # Doesn't close window until press q. 0xFF =====> 11111111\n",
    "        break\n",
    "cap.release()\n",
    "cv2.destroyAllWindows()"
   ]
  },
  {
   "cell_type": "markdown",
   "metadata": {},
   "source": [
    "`Why 0xFF is used`\n",
    "\n",
    "    cv2.waitKey() returns a 32 Bit integer value (might be dependent on the     \n",
    "    platform). The key input is in ASCII which is an 8 Bit integer value. So \n",
    "    you only care about these 8 bits and want all other bits to be 0. This you \n",
    "    can achieve with:     cv2.waitKey(0) & 0xFF\n"
   ]
  },
  {
   "cell_type": "markdown",
   "metadata": {},
   "source": [
    "`Whenever we use waitKey(0),it doesn't refresh frames.It wait for key press,for each key press it gives new frames...`"
   ]
  },
  {
   "cell_type": "code",
   "execution_count": 20,
   "metadata": {},
   "outputs": [],
   "source": [
    "import uuid           # Universal Unique Identifier, is a python library which helps in generating random objects of 128 bits as ids. "
   ]
  },
  {
   "cell_type": "code",
   "execution_count": 22,
   "metadata": {},
   "outputs": [
    {
     "data": {
      "text/plain": [
       "UUID('7b9d32a2-62dd-11eb-ab42-541379aa3218')"
      ]
     },
     "execution_count": 22,
     "metadata": {},
     "output_type": "execute_result"
    }
   ],
   "source": [
    "uuid.uuid1()"
   ]
  },
  {
   "cell_type": "code",
   "execution_count": 26,
   "metadata": {},
   "outputs": [],
   "source": [
    "cap = cv2.VideoCapture(0)\n",
    "\n",
    "while True:\n",
    "    rate, frame = cap.read()\n",
    "    \n",
    "    imgname = './Images/Mask/{}.jpg'.format(str(uuid.uuid1()))\n",
    "    \n",
    "    cv2.imwrite(imgname, frame)        # cv2.imwrite(name,image) method is used to save an image to any storage device.\n",
    "    \n",
    "    cv2.imshow('Capture',frame)\n",
    "\n",
    "    if cv2.waitKey(1) & 0xFF == ord('q'):        \n",
    "        break\n",
    "\n",
    "        \n",
    "cap.release()\n",
    "cv2.destroyAllWindows()"
   ]
  },
  {
   "cell_type": "code",
   "execution_count": 28,
   "metadata": {},
   "outputs": [],
   "source": [
    "cap = cv2.VideoCapture(0)\n",
    "\n",
    "while True:\n",
    "    rate, frame = cap.read()\n",
    "    \n",
    "    imgname = './Images/Without Mask/{}.jpg'.format(str(uuid.uuid1()))\n",
    "    \n",
    "    cv2.imwrite(imgname, frame)        # cv2.imwrite(name,image) method is used to save an image to any storage device.\n",
    "    \n",
    "    cv2.imshow('Capture',frame)\n",
    "\n",
    "    if cv2.waitKey(1) & 0xFF == ord('q'):        \n",
    "        break\n",
    "\n",
    "        \n",
    "cap.release()\n",
    "cv2.destroyAllWindows()"
   ]
  },
  {
   "cell_type": "code",
   "execution_count": null,
   "metadata": {},
   "outputs": [],
   "source": []
  }
 ],
 "metadata": {
  "kernelspec": {
   "display_name": "Python 3",
   "language": "python",
   "name": "python3"
  },
  "language_info": {
   "codemirror_mode": {
    "name": "ipython",
    "version": 3
   },
   "file_extension": ".py",
   "mimetype": "text/x-python",
   "name": "python",
   "nbconvert_exporter": "python",
   "pygments_lexer": "ipython3",
   "version": "3.7.6"
  }
 },
 "nbformat": 4,
 "nbformat_minor": 4
}
